{
 "cells": [
  {
   "cell_type": "code",
   "execution_count": 2,
   "metadata": {},
   "outputs": [
    {
     "name": "stderr",
     "output_type": "stream",
     "text": [
      "C:\\Users\\LENOVO\\AppData\\Local\\Temp\\ipykernel_22620\\2245981851.py:7: DeprecationWarning: The 'text' argument to find()-type methods is deprecated. Use 'string' instead.\n",
      "  span = soup.find(\"span\", text=lambda t: t and \"Winning Candidate\" in t)\n"
     ]
    },
    {
     "name": "stdout",
     "output_type": "stream",
     "text": [
      "Excel file generated successfully: table1_report.xlsx\n"
     ]
    },
    {
     "name": "stderr",
     "output_type": "stream",
     "text": [
      "C:\\Users\\LENOVO\\AppData\\Local\\Temp\\ipykernel_22620\\2245981851.py:7: DeprecationWarning: The 'text' argument to find()-type methods is deprecated. Use 'string' instead.\n",
      "  span = soup.find(\"span\", text=lambda t: t and \"Winning Candidate\" in t)\n"
     ]
    },
    {
     "name": "stdout",
     "output_type": "stream",
     "text": [
      "Excel file generated successfully: table2_report.xlsx\n"
     ]
    },
    {
     "name": "stderr",
     "output_type": "stream",
     "text": [
      "C:\\Users\\LENOVO\\AppData\\Local\\Temp\\ipykernel_22620\\2245981851.py:7: DeprecationWarning: The 'text' argument to find()-type methods is deprecated. Use 'string' instead.\n",
      "  span = soup.find(\"span\", text=lambda t: t and \"Winning Candidate\" in t)\n"
     ]
    },
    {
     "name": "stdout",
     "output_type": "stream",
     "text": [
      "Excel file generated successfully: table3_report.xlsx\n"
     ]
    },
    {
     "name": "stderr",
     "output_type": "stream",
     "text": [
      "C:\\Users\\LENOVO\\AppData\\Local\\Temp\\ipykernel_22620\\2245981851.py:7: DeprecationWarning: The 'text' argument to find()-type methods is deprecated. Use 'string' instead.\n",
      "  span = soup.find(\"span\", text=lambda t: t and \"Winning Candidate\" in t)\n"
     ]
    },
    {
     "name": "stdout",
     "output_type": "stream",
     "text": [
      "Excel file generated successfully: table4_report.xlsx\n"
     ]
    },
    {
     "name": "stderr",
     "output_type": "stream",
     "text": [
      "C:\\Users\\LENOVO\\AppData\\Local\\Temp\\ipykernel_22620\\2245981851.py:7: DeprecationWarning: The 'text' argument to find()-type methods is deprecated. Use 'string' instead.\n",
      "  span = soup.find(\"span\", text=lambda t: t and \"Winning Candidate\" in t)\n"
     ]
    },
    {
     "name": "stdout",
     "output_type": "stream",
     "text": [
      "Excel file generated successfully: table5_report.xlsx\n"
     ]
    },
    {
     "name": "stderr",
     "output_type": "stream",
     "text": [
      "C:\\Users\\LENOVO\\AppData\\Local\\Temp\\ipykernel_22620\\2245981851.py:7: DeprecationWarning: The 'text' argument to find()-type methods is deprecated. Use 'string' instead.\n",
      "  span = soup.find(\"span\", text=lambda t: t and \"Winning Candidate\" in t)\n"
     ]
    },
    {
     "name": "stdout",
     "output_type": "stream",
     "text": [
      "Excel file generated successfully: table6_report.xlsx\n"
     ]
    },
    {
     "name": "stderr",
     "output_type": "stream",
     "text": [
      "C:\\Users\\LENOVO\\AppData\\Local\\Temp\\ipykernel_22620\\2245981851.py:7: DeprecationWarning: The 'text' argument to find()-type methods is deprecated. Use 'string' instead.\n",
      "  span = soup.find(\"span\", text=lambda t: t and \"Winning Candidate\" in t)\n"
     ]
    },
    {
     "name": "stdout",
     "output_type": "stream",
     "text": [
      "Excel file generated successfully: table7_report.xlsx\n"
     ]
    },
    {
     "name": "stderr",
     "output_type": "stream",
     "text": [
      "C:\\Users\\LENOVO\\AppData\\Local\\Temp\\ipykernel_22620\\2245981851.py:7: DeprecationWarning: The 'text' argument to find()-type methods is deprecated. Use 'string' instead.\n",
      "  span = soup.find(\"span\", text=lambda t: t and \"Winning Candidate\" in t)\n"
     ]
    },
    {
     "name": "stdout",
     "output_type": "stream",
     "text": [
      "Excel file generated successfully: table8_report.xlsx\n"
     ]
    },
    {
     "name": "stderr",
     "output_type": "stream",
     "text": [
      "C:\\Users\\LENOVO\\AppData\\Local\\Temp\\ipykernel_22620\\2245981851.py:7: DeprecationWarning: The 'text' argument to find()-type methods is deprecated. Use 'string' instead.\n",
      "  span = soup.find(\"span\", text=lambda t: t and \"Winning Candidate\" in t)\n"
     ]
    },
    {
     "name": "stdout",
     "output_type": "stream",
     "text": [
      "Excel file generated successfully: table9_report.xlsx\n"
     ]
    },
    {
     "name": "stderr",
     "output_type": "stream",
     "text": [
      "C:\\Users\\LENOVO\\AppData\\Local\\Temp\\ipykernel_22620\\2245981851.py:7: DeprecationWarning: The 'text' argument to find()-type methods is deprecated. Use 'string' instead.\n",
      "  span = soup.find(\"span\", text=lambda t: t and \"Winning Candidate\" in t)\n"
     ]
    },
    {
     "name": "stdout",
     "output_type": "stream",
     "text": [
      "Excel file generated successfully: table10_report.xlsx\n"
     ]
    },
    {
     "name": "stderr",
     "output_type": "stream",
     "text": [
      "C:\\Users\\LENOVO\\AppData\\Local\\Temp\\ipykernel_22620\\2245981851.py:7: DeprecationWarning: The 'text' argument to find()-type methods is deprecated. Use 'string' instead.\n",
      "  span = soup.find(\"span\", text=lambda t: t and \"Winning Candidate\" in t)\n"
     ]
    },
    {
     "name": "stdout",
     "output_type": "stream",
     "text": [
      "Excel file generated successfully: table11_report.xlsx\n"
     ]
    },
    {
     "name": "stderr",
     "output_type": "stream",
     "text": [
      "C:\\Users\\LENOVO\\AppData\\Local\\Temp\\ipykernel_22620\\2245981851.py:7: DeprecationWarning: The 'text' argument to find()-type methods is deprecated. Use 'string' instead.\n",
      "  span = soup.find(\"span\", text=lambda t: t and \"Winning Candidate\" in t)\n"
     ]
    },
    {
     "name": "stdout",
     "output_type": "stream",
     "text": [
      "Excel file generated successfully: table12_report.xlsx\n"
     ]
    },
    {
     "name": "stderr",
     "output_type": "stream",
     "text": [
      "C:\\Users\\LENOVO\\AppData\\Local\\Temp\\ipykernel_22620\\2245981851.py:7: DeprecationWarning: The 'text' argument to find()-type methods is deprecated. Use 'string' instead.\n",
      "  span = soup.find(\"span\", text=lambda t: t and \"Winning Candidate\" in t)\n"
     ]
    },
    {
     "name": "stdout",
     "output_type": "stream",
     "text": [
      "Excel file generated successfully: table13_report.xlsx\n"
     ]
    },
    {
     "name": "stderr",
     "output_type": "stream",
     "text": [
      "C:\\Users\\LENOVO\\AppData\\Local\\Temp\\ipykernel_22620\\2245981851.py:7: DeprecationWarning: The 'text' argument to find()-type methods is deprecated. Use 'string' instead.\n",
      "  span = soup.find(\"span\", text=lambda t: t and \"Winning Candidate\" in t)\n"
     ]
    },
    {
     "name": "stdout",
     "output_type": "stream",
     "text": [
      "Excel file generated successfully: table14_report.xlsx\n"
     ]
    },
    {
     "name": "stderr",
     "output_type": "stream",
     "text": [
      "C:\\Users\\LENOVO\\AppData\\Local\\Temp\\ipykernel_22620\\2245981851.py:7: DeprecationWarning: The 'text' argument to find()-type methods is deprecated. Use 'string' instead.\n",
      "  span = soup.find(\"span\", text=lambda t: t and \"Winning Candidate\" in t)\n"
     ]
    },
    {
     "name": "stdout",
     "output_type": "stream",
     "text": [
      "Excel file generated successfully: table15_report.xlsx\n"
     ]
    },
    {
     "name": "stderr",
     "output_type": "stream",
     "text": [
      "C:\\Users\\LENOVO\\AppData\\Local\\Temp\\ipykernel_22620\\2245981851.py:7: DeprecationWarning: The 'text' argument to find()-type methods is deprecated. Use 'string' instead.\n",
      "  span = soup.find(\"span\", text=lambda t: t and \"Winning Candidate\" in t)\n"
     ]
    },
    {
     "name": "stdout",
     "output_type": "stream",
     "text": [
      "Excel file generated successfully: table16_report.xlsx\n"
     ]
    },
    {
     "name": "stderr",
     "output_type": "stream",
     "text": [
      "C:\\Users\\LENOVO\\AppData\\Local\\Temp\\ipykernel_22620\\2245981851.py:7: DeprecationWarning: The 'text' argument to find()-type methods is deprecated. Use 'string' instead.\n",
      "  span = soup.find(\"span\", text=lambda t: t and \"Winning Candidate\" in t)\n"
     ]
    },
    {
     "name": "stdout",
     "output_type": "stream",
     "text": [
      "Excel file generated successfully: table17_report.xlsx\n"
     ]
    },
    {
     "name": "stderr",
     "output_type": "stream",
     "text": [
      "C:\\Users\\LENOVO\\AppData\\Local\\Temp\\ipykernel_22620\\2245981851.py:7: DeprecationWarning: The 'text' argument to find()-type methods is deprecated. Use 'string' instead.\n",
      "  span = soup.find(\"span\", text=lambda t: t and \"Winning Candidate\" in t)\n"
     ]
    },
    {
     "name": "stdout",
     "output_type": "stream",
     "text": [
      "Excel file generated successfully: table18_report.xlsx\n"
     ]
    },
    {
     "name": "stderr",
     "output_type": "stream",
     "text": [
      "C:\\Users\\LENOVO\\AppData\\Local\\Temp\\ipykernel_22620\\2245981851.py:7: DeprecationWarning: The 'text' argument to find()-type methods is deprecated. Use 'string' instead.\n",
      "  span = soup.find(\"span\", text=lambda t: t and \"Winning Candidate\" in t)\n"
     ]
    },
    {
     "name": "stdout",
     "output_type": "stream",
     "text": [
      "Excel file generated successfully: table19_report.xlsx\n"
     ]
    },
    {
     "name": "stderr",
     "output_type": "stream",
     "text": [
      "C:\\Users\\LENOVO\\AppData\\Local\\Temp\\ipykernel_22620\\2245981851.py:7: DeprecationWarning: The 'text' argument to find()-type methods is deprecated. Use 'string' instead.\n",
      "  span = soup.find(\"span\", text=lambda t: t and \"Winning Candidate\" in t)\n"
     ]
    },
    {
     "name": "stdout",
     "output_type": "stream",
     "text": [
      "Excel file generated successfully: table20_report.xlsx\n"
     ]
    },
    {
     "name": "stderr",
     "output_type": "stream",
     "text": [
      "C:\\Users\\LENOVO\\AppData\\Local\\Temp\\ipykernel_22620\\2245981851.py:7: DeprecationWarning: The 'text' argument to find()-type methods is deprecated. Use 'string' instead.\n",
      "  span = soup.find(\"span\", text=lambda t: t and \"Winning Candidate\" in t)\n"
     ]
    },
    {
     "name": "stdout",
     "output_type": "stream",
     "text": [
      "Excel file generated successfully: table21_report.xlsx\n"
     ]
    },
    {
     "name": "stderr",
     "output_type": "stream",
     "text": [
      "C:\\Users\\LENOVO\\AppData\\Local\\Temp\\ipykernel_22620\\2245981851.py:7: DeprecationWarning: The 'text' argument to find()-type methods is deprecated. Use 'string' instead.\n",
      "  span = soup.find(\"span\", text=lambda t: t and \"Winning Candidate\" in t)\n"
     ]
    },
    {
     "name": "stdout",
     "output_type": "stream",
     "text": [
      "Excel file generated successfully: table22_report.xlsx\n"
     ]
    },
    {
     "name": "stderr",
     "output_type": "stream",
     "text": [
      "C:\\Users\\LENOVO\\AppData\\Local\\Temp\\ipykernel_22620\\2245981851.py:7: DeprecationWarning: The 'text' argument to find()-type methods is deprecated. Use 'string' instead.\n",
      "  span = soup.find(\"span\", text=lambda t: t and \"Winning Candidate\" in t)\n"
     ]
    },
    {
     "name": "stdout",
     "output_type": "stream",
     "text": [
      "Excel file generated successfully: table23_report.xlsx\n"
     ]
    },
    {
     "name": "stderr",
     "output_type": "stream",
     "text": [
      "C:\\Users\\LENOVO\\AppData\\Local\\Temp\\ipykernel_22620\\2245981851.py:7: DeprecationWarning: The 'text' argument to find()-type methods is deprecated. Use 'string' instead.\n",
      "  span = soup.find(\"span\", text=lambda t: t and \"Winning Candidate\" in t)\n"
     ]
    },
    {
     "name": "stdout",
     "output_type": "stream",
     "text": [
      "Excel file generated successfully: table24_report.xlsx\n"
     ]
    },
    {
     "name": "stderr",
     "output_type": "stream",
     "text": [
      "C:\\Users\\LENOVO\\AppData\\Local\\Temp\\ipykernel_22620\\2245981851.py:7: DeprecationWarning: The 'text' argument to find()-type methods is deprecated. Use 'string' instead.\n",
      "  span = soup.find(\"span\", text=lambda t: t and \"Winning Candidate\" in t)\n"
     ]
    },
    {
     "name": "stdout",
     "output_type": "stream",
     "text": [
      "Excel file generated successfully: table25_report.xlsx\n"
     ]
    },
    {
     "name": "stderr",
     "output_type": "stream",
     "text": [
      "C:\\Users\\LENOVO\\AppData\\Local\\Temp\\ipykernel_22620\\2245981851.py:7: DeprecationWarning: The 'text' argument to find()-type methods is deprecated. Use 'string' instead.\n",
      "  span = soup.find(\"span\", text=lambda t: t and \"Winning Candidate\" in t)\n"
     ]
    },
    {
     "name": "stdout",
     "output_type": "stream",
     "text": [
      "Excel file generated successfully: table26_report.xlsx\n"
     ]
    },
    {
     "name": "stderr",
     "output_type": "stream",
     "text": [
      "C:\\Users\\LENOVO\\AppData\\Local\\Temp\\ipykernel_22620\\2245981851.py:7: DeprecationWarning: The 'text' argument to find()-type methods is deprecated. Use 'string' instead.\n",
      "  span = soup.find(\"span\", text=lambda t: t and \"Winning Candidate\" in t)\n"
     ]
    },
    {
     "name": "stdout",
     "output_type": "stream",
     "text": [
      "Excel file generated successfully: table27_report.xlsx\n"
     ]
    },
    {
     "name": "stderr",
     "output_type": "stream",
     "text": [
      "C:\\Users\\LENOVO\\AppData\\Local\\Temp\\ipykernel_22620\\2245981851.py:7: DeprecationWarning: The 'text' argument to find()-type methods is deprecated. Use 'string' instead.\n",
      "  span = soup.find(\"span\", text=lambda t: t and \"Winning Candidate\" in t)\n"
     ]
    },
    {
     "name": "stdout",
     "output_type": "stream",
     "text": [
      "Excel file generated successfully: table28_report.xlsx\n"
     ]
    },
    {
     "name": "stderr",
     "output_type": "stream",
     "text": [
      "C:\\Users\\LENOVO\\AppData\\Local\\Temp\\ipykernel_22620\\2245981851.py:7: DeprecationWarning: The 'text' argument to find()-type methods is deprecated. Use 'string' instead.\n",
      "  span = soup.find(\"span\", text=lambda t: t and \"Winning Candidate\" in t)\n"
     ]
    },
    {
     "name": "stdout",
     "output_type": "stream",
     "text": [
      "Excel file generated successfully: table29_report.xlsx\n"
     ]
    },
    {
     "name": "stderr",
     "output_type": "stream",
     "text": [
      "C:\\Users\\LENOVO\\AppData\\Local\\Temp\\ipykernel_22620\\2245981851.py:7: DeprecationWarning: The 'text' argument to find()-type methods is deprecated. Use 'string' instead.\n",
      "  span = soup.find(\"span\", text=lambda t: t and \"Winning Candidate\" in t)\n"
     ]
    },
    {
     "name": "stdout",
     "output_type": "stream",
     "text": [
      "Excel file generated successfully: table30_report.xlsx\n"
     ]
    },
    {
     "name": "stderr",
     "output_type": "stream",
     "text": [
      "C:\\Users\\LENOVO\\AppData\\Local\\Temp\\ipykernel_22620\\2245981851.py:7: DeprecationWarning: The 'text' argument to find()-type methods is deprecated. Use 'string' instead.\n",
      "  span = soup.find(\"span\", text=lambda t: t and \"Winning Candidate\" in t)\n"
     ]
    },
    {
     "name": "stdout",
     "output_type": "stream",
     "text": [
      "Excel file generated successfully: table31_report.xlsx\n"
     ]
    },
    {
     "name": "stderr",
     "output_type": "stream",
     "text": [
      "C:\\Users\\LENOVO\\AppData\\Local\\Temp\\ipykernel_22620\\2245981851.py:7: DeprecationWarning: The 'text' argument to find()-type methods is deprecated. Use 'string' instead.\n",
      "  span = soup.find(\"span\", text=lambda t: t and \"Winning Candidate\" in t)\n"
     ]
    },
    {
     "name": "stdout",
     "output_type": "stream",
     "text": [
      "Excel file generated successfully: table32_report.xlsx\n"
     ]
    },
    {
     "name": "stderr",
     "output_type": "stream",
     "text": [
      "C:\\Users\\LENOVO\\AppData\\Local\\Temp\\ipykernel_22620\\2245981851.py:7: DeprecationWarning: The 'text' argument to find()-type methods is deprecated. Use 'string' instead.\n",
      "  span = soup.find(\"span\", text=lambda t: t and \"Winning Candidate\" in t)\n"
     ]
    },
    {
     "name": "stdout",
     "output_type": "stream",
     "text": [
      "Excel file generated successfully: table33_report.xlsx\n"
     ]
    },
    {
     "name": "stderr",
     "output_type": "stream",
     "text": [
      "C:\\Users\\LENOVO\\AppData\\Local\\Temp\\ipykernel_22620\\2245981851.py:7: DeprecationWarning: The 'text' argument to find()-type methods is deprecated. Use 'string' instead.\n",
      "  span = soup.find(\"span\", text=lambda t: t and \"Winning Candidate\" in t)\n"
     ]
    },
    {
     "name": "stdout",
     "output_type": "stream",
     "text": [
      "Excel file generated successfully: table34_report.xlsx\n"
     ]
    },
    {
     "name": "stderr",
     "output_type": "stream",
     "text": [
      "C:\\Users\\LENOVO\\AppData\\Local\\Temp\\ipykernel_22620\\2245981851.py:7: DeprecationWarning: The 'text' argument to find()-type methods is deprecated. Use 'string' instead.\n",
      "  span = soup.find(\"span\", text=lambda t: t and \"Winning Candidate\" in t)\n"
     ]
    },
    {
     "name": "stdout",
     "output_type": "stream",
     "text": [
      "Excel file generated successfully: table35_report.xlsx\n"
     ]
    },
    {
     "name": "stderr",
     "output_type": "stream",
     "text": [
      "C:\\Users\\LENOVO\\AppData\\Local\\Temp\\ipykernel_22620\\2245981851.py:7: DeprecationWarning: The 'text' argument to find()-type methods is deprecated. Use 'string' instead.\n",
      "  span = soup.find(\"span\", text=lambda t: t and \"Winning Candidate\" in t)\n"
     ]
    },
    {
     "name": "stdout",
     "output_type": "stream",
     "text": [
      "Excel file generated successfully: table36_report.xlsx\n"
     ]
    },
    {
     "name": "stderr",
     "output_type": "stream",
     "text": [
      "C:\\Users\\LENOVO\\AppData\\Local\\Temp\\ipykernel_22620\\2245981851.py:7: DeprecationWarning: The 'text' argument to find()-type methods is deprecated. Use 'string' instead.\n",
      "  span = soup.find(\"span\", text=lambda t: t and \"Winning Candidate\" in t)\n"
     ]
    },
    {
     "name": "stdout",
     "output_type": "stream",
     "text": [
      "Excel file generated successfully: table37_report.xlsx\n"
     ]
    },
    {
     "name": "stderr",
     "output_type": "stream",
     "text": [
      "C:\\Users\\LENOVO\\AppData\\Local\\Temp\\ipykernel_22620\\2245981851.py:7: DeprecationWarning: The 'text' argument to find()-type methods is deprecated. Use 'string' instead.\n",
      "  span = soup.find(\"span\", text=lambda t: t and \"Winning Candidate\" in t)\n"
     ]
    },
    {
     "name": "stdout",
     "output_type": "stream",
     "text": [
      "Excel file generated successfully: table38_report.xlsx\n"
     ]
    },
    {
     "name": "stderr",
     "output_type": "stream",
     "text": [
      "C:\\Users\\LENOVO\\AppData\\Local\\Temp\\ipykernel_22620\\2245981851.py:7: DeprecationWarning: The 'text' argument to find()-type methods is deprecated. Use 'string' instead.\n",
      "  span = soup.find(\"span\", text=lambda t: t and \"Winning Candidate\" in t)\n"
     ]
    },
    {
     "name": "stdout",
     "output_type": "stream",
     "text": [
      "Excel file generated successfully: table39_report.xlsx\n"
     ]
    },
    {
     "name": "stderr",
     "output_type": "stream",
     "text": [
      "C:\\Users\\LENOVO\\AppData\\Local\\Temp\\ipykernel_22620\\2245981851.py:7: DeprecationWarning: The 'text' argument to find()-type methods is deprecated. Use 'string' instead.\n",
      "  span = soup.find(\"span\", text=lambda t: t and \"Winning Candidate\" in t)\n"
     ]
    },
    {
     "name": "stdout",
     "output_type": "stream",
     "text": [
      "Excel file generated successfully: table40_report.xlsx\n"
     ]
    },
    {
     "name": "stderr",
     "output_type": "stream",
     "text": [
      "C:\\Users\\LENOVO\\AppData\\Local\\Temp\\ipykernel_22620\\2245981851.py:7: DeprecationWarning: The 'text' argument to find()-type methods is deprecated. Use 'string' instead.\n",
      "  span = soup.find(\"span\", text=lambda t: t and \"Winning Candidate\" in t)\n"
     ]
    },
    {
     "name": "stdout",
     "output_type": "stream",
     "text": [
      "Excel file generated successfully: table41_report.xlsx\n",
      "Excel file generated successfully: table42_report.xlsx\n",
      "Combined Excel file generated successfully: Final_Dataset.xlsx\n"
     ]
    },
    {
     "name": "stderr",
     "output_type": "stream",
     "text": [
      "C:\\Users\\LENOVO\\AppData\\Local\\Temp\\ipykernel_22620\\2245981851.py:7: DeprecationWarning: The 'text' argument to find()-type methods is deprecated. Use 'string' instead.\n",
      "  span = soup.find(\"span\", text=lambda t: t and \"Winning Candidate\" in t)\n"
     ]
    }
   ],
   "source": [
    "import requests\n",
    "from bs4 import BeautifulSoup\n",
    "import pandas as pd\n",
    "from io import StringIO\n",
    "\n",
    "def extract_party_name(soup):\n",
    "    span = soup.find(\"span\", text=lambda t: t and \"Winning Candidate\" in t)\n",
    "    if span:\n",
    "        party_name = span.text.split(\"(\")[-1].split(\")\")[0].strip()\n",
    "        return party_name\n",
    "    return \"Unknown\"\n",
    "\n",
    "def generate_excel_from_urls(url_filename_pairs, combined_filename):\n",
    "    all_dfs = []\n",
    "    for url, filename in url_filename_pairs:\n",
    "        response = requests.get(url)\n",
    "        html_content = response.content\n",
    "        soup = BeautifulSoup(html_content, \"html.parser\")\n",
    "        party_name = extract_party_name(soup)\n",
    "        table = soup.find(\"table\", class_=\"table\")\n",
    "\n",
    "        if table:\n",
    "            dfs = pd.read_html(StringIO(str(table)))\n",
    "\n",
    "            if dfs:\n",
    "                df = dfs[0]\n",
    "                df[\"Winning Party\"] = party_name \n",
    "                df.to_excel(filename, index=False)\n",
    "                all_dfs.append(df)\n",
    "                print(f\"Excel file generated successfully: {filename}\")\n",
    "            else:\n",
    "                print(f\"No tables found on the webpage for URL: {url}\")\n",
    "        else:\n",
    "            print(f\"Table not found on the webpage for URL: {url}\")\n",
    "\n",
    "    # Combine all dataframes into a single DataFrame\n",
    "    combined_df = pd.concat(all_dfs, ignore_index=True)\n",
    "    # Write the combined DataFrame to a single sheet in the Excel file\n",
    "    combined_df.to_excel(combined_filename, sheet_name='Combined', index=False)\n",
    "    \n",
    "    print(f\"Combined Excel file generated successfully: {combined_filename}\")\n",
    "\n",
    "# List of URLs, party names, and filenames for individual Excel files\n",
    "url_partyname_filename_pairs = [\n",
    "    (\"https://results.eci.gov.in/PcResultGenJune2024/partywisewinresultState-369.htm\",\"table1_report.xlsx\"),\n",
    "    (\"https://results.eci.gov.in/PcResultGenJune2024/partywisewinresultState-742.htm\", \"table2_report.xlsx\"),\n",
    "    (\"https://results.eci.gov.in/PcResultGenJune2024/partywisewinresultState-1680.htm\", \"table3_report.xlsx\"),\n",
    "    (\"https://results.eci.gov.in/PcResultGenJune2024/partywisewinresultState-140.htm\", \"table4_report.xlsx\"),\n",
    "    (\"https://results.eci.gov.in/PcResultGenJune2024/partywisewinresultState-582.htm\", \"table5_report.xlsx\"),\n",
    "    (\"https://results.eci.gov.in/PcResultGenJune2024/partywisewinresultState-1745.htm\", \"table6_report.xlsx\"),\n",
    "    (\"https://results.eci.gov.in/PcResultGenJune2024/partywisewinresultState-805.htm\", \"table7_report.xlsx\"),\n",
    "    (\"https://results.eci.gov.in/PcResultGenJune2024/partywisewinresultState-3369.htm\", \"table8_report.xlsx\"),\n",
    "    (\"https://results.eci.gov.in/PcResultGenJune2024/partywisewinresultState-3620.htm\", \"table9_report.xlsx\"),\n",
    "    (\"https://results.eci.gov.in/PcResultGenJune2024/partywisewinresultState-3529.htm\", \"table10_report.xlsx\"),\n",
    "    (\"https://results.eci.gov.in/PcResultGenJune2024/partywisewinresultState-3165.htm\", \"table11_report.xlsx\"),\n",
    "    (\"https://results.eci.gov.in/PcResultGenJune2024/partywisewinresultState-1888.htm\", \"table12_report.xlsx\"),\n",
    "    (\"https://results.eci.gov.in/PcResultGenJune2024/partywisewinresultState-1420.htm\",  \"table13_report.xlsx\"),\n",
    "    (\"https://results.eci.gov.in/PcResultGenJune2024/partywisewinresultState-547.htm\",  \"table14_report.xlsx\"),\n",
    "    (\"https://results.eci.gov.in/PcResultGenJune2024/partywisewinresultState-772.htm\",  \"table15_report.xlsx\"),\n",
    "    (\"https://results.eci.gov.in/PcResultGenJune2024/partywisewinresultState-1.htm\", \"table16_report.xlsx\"),\n",
    "    (\"https://results.eci.gov.in/PcResultGenJune2024/partywisewinresultState-852.htm\",  \"table17_report.xlsx\"),\n",
    "    (\"https://results.eci.gov.in/PcResultGenJune2024/partywisewinresultState-860.htm\",  \"table18_report.xlsx\"),\n",
    "    (\"https://results.eci.gov.in/PcResultGenJune2024/partywisewinresultState-545.htm\", \"table19_report.xlsx\"),\n",
    "    (\"https://results.eci.gov.in/PcResultGenJune2024/partywisewinresultState-804.htm\", \"table20_report.xlsx\"),\n",
    "    (\"https://results.eci.gov.in/PcResultGenJune2024/partywisewinresultState-1847.htm\", \"table21_report.xlsx\"),\n",
    "    (\"https://results.eci.gov.in/PcResultGenJune2024/partywisewinresultState-544.htm\",  \"table22_report.xlsx\"),\n",
    "    (\"https://results.eci.gov.in/PcResultGenJune2024/partywisewinresultState-1458.htm\", \"table23_report.xlsx\"),\n",
    "    (\"https://results.eci.gov.in/PcResultGenJune2024/partywisewinresultState-834.htm\",  \"table24_report.xlsx\"),\n",
    "    (\"https://results.eci.gov.in/PcResultGenJune2024/partywisewinresultState-1998.htm\",\"table25_report.xlsx\"),\n",
    "    (\"https://results.eci.gov.in/PcResultGenJune2024/partywisewinresultState-83.htm\", \"table26_report.xlsx\"),\n",
    "    (\"https://results.eci.gov.in/PcResultGenJune2024/partywisewinresultState-664.htm\",  \"table27_report.xlsx\"),\n",
    "    (\"https://results.eci.gov.in/PcResultGenJune2024/partywisewinresultState-911.htm\", \"table28_report.xlsx\"),\n",
    "    (\"https://results.eci.gov.in/PcResultGenJune2024/partywisewinresultState-1534.htm\", \"table29_report.xlsx\"),\n",
    "    (\"https://results.eci.gov.in/PcResultGenJune2024/partywisewinresultState-1142.htm\",  \"table30_report.xlsx\"),\n",
    "    (\"https://results.eci.gov.in/PcResultGenJune2024/partywisewinresultState-3388.htm\",  \"table31_report.xlsx\"),\n",
    "    (\"https://results.eci.gov.in/PcResultGenJune2024/partywisewinresultState-2757.htm\",  \"table32_report.xlsx\"),\n",
    "    (\"https://results.eci.gov.in/PcResultGenJune2024/partywisewinresultState-1584.htm\",\"table33_report.xlsx\"),\n",
    "    (\"https://results.eci.gov.in/PcResultGenJune2024/partywisewinresultState-2484.htm\", \"table34_report.xlsx\"),\n",
    "    (\"https://results.eci.gov.in/PcResultGenJune2024/partywisewinresultState-3482.htm\",\"table35_report.xlsx\"),\n",
    "    (\"https://results.eci.gov.in/PcResultGenJune2024/partywisewinresultState-1658.htm\",\"table36_report.xlsx\"),\n",
    "    (\"https://results.eci.gov.in/PcResultGenJune2024/partywisewinresultState-1046.htm\",\"table37_report.xlsx\"),\n",
    "    (\"https://results.eci.gov.in/PcResultGenJune2024/partywisewinresultState-2989.htm\",\"table38_report.xlsx\"),\n",
    "    (\"https://results.eci.gov.in/PcResultGenJune2024/partywisewinresultState-2070.htm\",\"table39_report.xlsx\"),\n",
    "    (\"https://results.eci.gov.in/PcResultGenJune2024/partywisewinresultState-160.htm\",\"table40_report.xlsx\"),\n",
    "    (\"https://results.eci.gov.in/PcResultGenJune2024/partywisewinresultState-118.htm\", \"table41_report.xlsx\"),\n",
    "    (\"https://results.eci.gov.in/PcResultGenJune2024/partywisewinresultState-743.htm\", \"table42_report.xlsx\"),\n",
    "]\n",
    "combined_filename = \"Final_Dataset.xlsx\"\n",
    "generate_excel_from_urls(url_partyname_filename_pairs, combined_filename)\n"
   ]
  },
  {
   "cell_type": "code",
   "execution_count": 3,
   "metadata": {},
   "outputs": [],
   "source": [
    "import pandas as np \n",
    "import numpy as np \n",
    "data=pd.read_excel(\"Final_Dataset.xlsx\")"
   ]
  },
  {
   "cell_type": "code",
   "execution_count": 4,
   "metadata": {},
   "outputs": [
    {
     "data": {
      "text/html": [
       "<div>\n",
       "<style scoped>\n",
       "    .dataframe tbody tr th:only-of-type {\n",
       "        vertical-align: middle;\n",
       "    }\n",
       "\n",
       "    .dataframe tbody tr th {\n",
       "        vertical-align: top;\n",
       "    }\n",
       "\n",
       "    .dataframe thead th {\n",
       "        text-align: right;\n",
       "    }\n",
       "</style>\n",
       "<table border=\"1\" class=\"dataframe\">\n",
       "  <thead>\n",
       "    <tr style=\"text-align: right;\">\n",
       "      <th></th>\n",
       "      <th>S.No</th>\n",
       "      <th>Parliament Constituency</th>\n",
       "      <th>Winning Candidate</th>\n",
       "      <th>Total Votes</th>\n",
       "      <th>Margin</th>\n",
       "      <th>Winning Party</th>\n",
       "    </tr>\n",
       "  </thead>\n",
       "  <tbody>\n",
       "    <tr>\n",
       "      <th>0</th>\n",
       "      <td>1</td>\n",
       "      <td>Anakapalle(5)</td>\n",
       "      <td>C.M.RAMESH</td>\n",
       "      <td>762069</td>\n",
       "      <td>296530</td>\n",
       "      <td>Bharatiya Janata Party</td>\n",
       "    </tr>\n",
       "    <tr>\n",
       "      <th>1</th>\n",
       "      <td>2</td>\n",
       "      <td>Rajahmundry(8)</td>\n",
       "      <td>DAGGUBATI PURANDHESHWARI</td>\n",
       "      <td>726515</td>\n",
       "      <td>239139</td>\n",
       "      <td>Bharatiya Janata Party</td>\n",
       "    </tr>\n",
       "    <tr>\n",
       "      <th>2</th>\n",
       "      <td>3</td>\n",
       "      <td>Narsapuram(9)</td>\n",
       "      <td>BHUPATHI RAJU SRINIVASA VARMA (B.J.P.VARMA)</td>\n",
       "      <td>707343</td>\n",
       "      <td>276802</td>\n",
       "      <td>Bharatiya Janata Party</td>\n",
       "    </tr>\n",
       "    <tr>\n",
       "      <th>3</th>\n",
       "      <td>4</td>\n",
       "      <td>Arunachal West(1)</td>\n",
       "      <td>KIREN RIJIJU</td>\n",
       "      <td>205417</td>\n",
       "      <td>100738</td>\n",
       "      <td>Bharatiya Janata Party</td>\n",
       "    </tr>\n",
       "    <tr>\n",
       "      <th>4</th>\n",
       "      <td>5</td>\n",
       "      <td>Arunachal East(2)</td>\n",
       "      <td>TAPIR GAO</td>\n",
       "      <td>145581</td>\n",
       "      <td>30421</td>\n",
       "      <td>Bharatiya Janata Party</td>\n",
       "    </tr>\n",
       "    <tr>\n",
       "      <th>...</th>\n",
       "      <td>...</td>\n",
       "      <td>...</td>\n",
       "      <td>...</td>\n",
       "      <td>...</td>\n",
       "      <td>...</td>\n",
       "      <td>...</td>\n",
       "    </tr>\n",
       "    <tr>\n",
       "      <th>538</th>\n",
       "      <td>3</td>\n",
       "      <td>Khadoor Sahib(3)</td>\n",
       "      <td>AMRITPAL SINGH</td>\n",
       "      <td>404430</td>\n",
       "      <td>197120</td>\n",
       "      <td>Independent</td>\n",
       "    </tr>\n",
       "    <tr>\n",
       "      <th>539</th>\n",
       "      <td>4</td>\n",
       "      <td>Faridkot(9)</td>\n",
       "      <td>SARABJEET SINGH KHALSA</td>\n",
       "      <td>298062</td>\n",
       "      <td>70053</td>\n",
       "      <td>Independent</td>\n",
       "    </tr>\n",
       "    <tr>\n",
       "      <th>540</th>\n",
       "      <td>5</td>\n",
       "      <td>Daman &amp; Diu (1)</td>\n",
       "      <td>PATEL UMESHBHAI BABUBHAI</td>\n",
       "      <td>42523</td>\n",
       "      <td>6225</td>\n",
       "      <td>Independent</td>\n",
       "    </tr>\n",
       "    <tr>\n",
       "      <th>541</th>\n",
       "      <td>6</td>\n",
       "      <td>BARAMULLA(1)</td>\n",
       "      <td>ABDUL RASHID SHEIKH</td>\n",
       "      <td>472481</td>\n",
       "      <td>204142</td>\n",
       "      <td>Independent</td>\n",
       "    </tr>\n",
       "    <tr>\n",
       "      <th>542</th>\n",
       "      <td>7</td>\n",
       "      <td>Ladakh(1)</td>\n",
       "      <td>MOHMAD HANEEFA</td>\n",
       "      <td>65259</td>\n",
       "      <td>27862</td>\n",
       "      <td>Independent</td>\n",
       "    </tr>\n",
       "  </tbody>\n",
       "</table>\n",
       "<p>543 rows × 6 columns</p>\n",
       "</div>"
      ],
      "text/plain": [
       "     S.No Parliament Constituency  \\\n",
       "0       1           Anakapalle(5)   \n",
       "1       2          Rajahmundry(8)   \n",
       "2       3           Narsapuram(9)   \n",
       "3       4       Arunachal West(1)   \n",
       "4       5       Arunachal East(2)   \n",
       "..    ...                     ...   \n",
       "538     3        Khadoor Sahib(3)   \n",
       "539     4             Faridkot(9)   \n",
       "540     5         Daman & Diu (1)   \n",
       "541     6            BARAMULLA(1)   \n",
       "542     7               Ladakh(1)   \n",
       "\n",
       "                               Winning Candidate Total Votes  Margin  \\\n",
       "0                                     C.M.RAMESH      762069  296530   \n",
       "1                       DAGGUBATI PURANDHESHWARI      726515  239139   \n",
       "2    BHUPATHI RAJU SRINIVASA VARMA (B.J.P.VARMA)      707343  276802   \n",
       "3                                   KIREN RIJIJU      205417  100738   \n",
       "4                                      TAPIR GAO      145581   30421   \n",
       "..                                           ...         ...     ...   \n",
       "538                               AMRITPAL SINGH      404430  197120   \n",
       "539                       SARABJEET SINGH KHALSA      298062   70053   \n",
       "540                     PATEL UMESHBHAI BABUBHAI       42523    6225   \n",
       "541                          ABDUL RASHID SHEIKH      472481  204142   \n",
       "542                               MOHMAD HANEEFA       65259   27862   \n",
       "\n",
       "              Winning Party  \n",
       "0    Bharatiya Janata Party  \n",
       "1    Bharatiya Janata Party  \n",
       "2    Bharatiya Janata Party  \n",
       "3    Bharatiya Janata Party  \n",
       "4    Bharatiya Janata Party  \n",
       "..                      ...  \n",
       "538             Independent  \n",
       "539             Independent  \n",
       "540             Independent  \n",
       "541             Independent  \n",
       "542             Independent  \n",
       "\n",
       "[543 rows x 6 columns]"
      ]
     },
     "execution_count": 4,
     "metadata": {},
     "output_type": "execute_result"
    }
   ],
   "source": [
    "data"
   ]
  },
  {
   "cell_type": "code",
   "execution_count": 5,
   "metadata": {},
   "outputs": [
    {
     "data": {
      "text/html": [
       "<div>\n",
       "<style scoped>\n",
       "    .dataframe tbody tr th:only-of-type {\n",
       "        vertical-align: middle;\n",
       "    }\n",
       "\n",
       "    .dataframe tbody tr th {\n",
       "        vertical-align: top;\n",
       "    }\n",
       "\n",
       "    .dataframe thead th {\n",
       "        text-align: right;\n",
       "    }\n",
       "</style>\n",
       "<table border=\"1\" class=\"dataframe\">\n",
       "  <thead>\n",
       "    <tr style=\"text-align: right;\">\n",
       "      <th></th>\n",
       "      <th>S.No</th>\n",
       "    </tr>\n",
       "  </thead>\n",
       "  <tbody>\n",
       "    <tr>\n",
       "      <th>count</th>\n",
       "      <td>543.000000</td>\n",
       "    </tr>\n",
       "    <tr>\n",
       "      <th>mean</th>\n",
       "      <td>65.769797</td>\n",
       "    </tr>\n",
       "    <tr>\n",
       "      <th>std</th>\n",
       "      <td>69.916031</td>\n",
       "    </tr>\n",
       "    <tr>\n",
       "      <th>min</th>\n",
       "      <td>1.000000</td>\n",
       "    </tr>\n",
       "    <tr>\n",
       "      <th>25%</th>\n",
       "      <td>8.000000</td>\n",
       "    </tr>\n",
       "    <tr>\n",
       "      <th>50%</th>\n",
       "      <td>35.000000</td>\n",
       "    </tr>\n",
       "    <tr>\n",
       "      <th>75%</th>\n",
       "      <td>104.500000</td>\n",
       "    </tr>\n",
       "    <tr>\n",
       "      <th>max</th>\n",
       "      <td>240.000000</td>\n",
       "    </tr>\n",
       "  </tbody>\n",
       "</table>\n",
       "</div>"
      ],
      "text/plain": [
       "             S.No\n",
       "count  543.000000\n",
       "mean    65.769797\n",
       "std     69.916031\n",
       "min      1.000000\n",
       "25%      8.000000\n",
       "50%     35.000000\n",
       "75%    104.500000\n",
       "max    240.000000"
      ]
     },
     "execution_count": 5,
     "metadata": {},
     "output_type": "execute_result"
    }
   ],
   "source": [
    "data.describe()"
   ]
  },
  {
   "cell_type": "code",
   "execution_count": 6,
   "metadata": {},
   "outputs": [
    {
     "name": "stdout",
     "output_type": "stream",
     "text": [
      "<class 'pandas.core.frame.DataFrame'>\n",
      "RangeIndex: 543 entries, 0 to 542\n",
      "Data columns (total 6 columns):\n",
      " #   Column                   Non-Null Count  Dtype \n",
      "---  ------                   --------------  ----- \n",
      " 0   S.No                     543 non-null    int64 \n",
      " 1   Parliament Constituency  543 non-null    object\n",
      " 2   Winning Candidate        543 non-null    object\n",
      " 3   Total Votes              543 non-null    object\n",
      " 4   Margin                   543 non-null    object\n",
      " 5   Winning Party            543 non-null    object\n",
      "dtypes: int64(1), object(5)\n",
      "memory usage: 25.6+ KB\n"
     ]
    }
   ],
   "source": [
    "data.info()"
   ]
  },
  {
   "cell_type": "code",
   "execution_count": 7,
   "metadata": {},
   "outputs": [
    {
     "name": "stdout",
     "output_type": "stream",
     "text": [
      "No columns have null values.\n"
     ]
    }
   ],
   "source": [
    "df = pd.DataFrame(data)\n",
    "\n",
    "# Check for null values across all columns\n",
    "null_columns = df.columns[df.isnull().any()]\n",
    "\n",
    "if null_columns.empty:\n",
    "    print(\"No columns have null values.\")\n",
    "else:\n",
    "    print(\"Columns with null values:\")\n",
    "    print(df[null_columns].isnull().sum())\n"
   ]
  },
  {
   "cell_type": "code",
   "execution_count": 8,
   "metadata": {},
   "outputs": [],
   "source": [
    "df_filled = df.fillna(value=\"NULL\")\n"
   ]
  },
  {
   "cell_type": "code",
   "execution_count": 9,
   "metadata": {},
   "outputs": [
    {
     "name": "stdout",
     "output_type": "stream",
     "text": [
      "Columns with null values:\n",
      "S.No    0\n",
      "S.No    0\n",
      "S.No    0\n",
      "S.No    0\n",
      "S.No    0\n",
      "S.No    0\n",
      "dtype: int64\n"
     ]
    }
   ],
   "source": [
    "null_columns = df.columns[df.isnull().sum()]\n",
    "if null_columns.empty:\n",
    "    print(\"No columns have null values.\")\n",
    "else:\n",
    "    print(\"Columns with null values:\")\n",
    "    print(df[null_columns].isnull().sum())"
   ]
  },
  {
   "cell_type": "code",
   "execution_count": 12,
   "metadata": {},
   "outputs": [
    {
     "ename": "AttributeError",
     "evalue": "'DataFrame' object has no attribute 'unique_parties'",
     "output_type": "error",
     "traceback": [
      "\u001b[1;31m---------------------------------------------------------------------------\u001b[0m",
      "\u001b[1;31mAttributeError\u001b[0m                            Traceback (most recent call last)",
      "\u001b[1;32m~\\AppData\\Local\\Temp\\ipykernel_22620\\2819896840.py\u001b[0m in \u001b[0;36m?\u001b[1;34m()\u001b[0m\n\u001b[1;32m----> 1\u001b[1;33m \u001b[0mprint\u001b[0m\u001b[1;33m(\u001b[0m\u001b[0mlist\u001b[0m\u001b[1;33m(\u001b[0m\u001b[0mdf\u001b[0m\u001b[1;33m.\u001b[0m\u001b[0munique_parties\u001b[0m\u001b[1;33m)\u001b[0m\u001b[1;33m)\u001b[0m\u001b[1;33m\u001b[0m\u001b[1;33m\u001b[0m\u001b[0m\n\u001b[0m",
      "\u001b[1;32mc:\\Users\\LENOVO\\AppData\\Local\\Programs\\Python\\Python312\\Lib\\site-packages\\pandas\\core\\generic.py\u001b[0m in \u001b[0;36m?\u001b[1;34m(self, name)\u001b[0m\n\u001b[0;32m   6200\u001b[0m             \u001b[1;32mand\u001b[0m \u001b[0mname\u001b[0m \u001b[1;32mnot\u001b[0m \u001b[1;32min\u001b[0m \u001b[0mself\u001b[0m\u001b[1;33m.\u001b[0m\u001b[0m_accessors\u001b[0m\u001b[1;33m\u001b[0m\u001b[1;33m\u001b[0m\u001b[0m\n\u001b[0;32m   6201\u001b[0m             \u001b[1;32mand\u001b[0m \u001b[0mself\u001b[0m\u001b[1;33m.\u001b[0m\u001b[0m_info_axis\u001b[0m\u001b[1;33m.\u001b[0m\u001b[0m_can_hold_identifiers_and_holds_name\u001b[0m\u001b[1;33m(\u001b[0m\u001b[0mname\u001b[0m\u001b[1;33m)\u001b[0m\u001b[1;33m\u001b[0m\u001b[1;33m\u001b[0m\u001b[0m\n\u001b[0;32m   6202\u001b[0m         \u001b[1;33m)\u001b[0m\u001b[1;33m:\u001b[0m\u001b[1;33m\u001b[0m\u001b[1;33m\u001b[0m\u001b[0m\n\u001b[0;32m   6203\u001b[0m             \u001b[1;32mreturn\u001b[0m \u001b[0mself\u001b[0m\u001b[1;33m[\u001b[0m\u001b[0mname\u001b[0m\u001b[1;33m]\u001b[0m\u001b[1;33m\u001b[0m\u001b[1;33m\u001b[0m\u001b[0m\n\u001b[1;32m-> 6204\u001b[1;33m         \u001b[1;32mreturn\u001b[0m \u001b[0mobject\u001b[0m\u001b[1;33m.\u001b[0m\u001b[0m__getattribute__\u001b[0m\u001b[1;33m(\u001b[0m\u001b[0mself\u001b[0m\u001b[1;33m,\u001b[0m \u001b[0mname\u001b[0m\u001b[1;33m)\u001b[0m\u001b[1;33m\u001b[0m\u001b[1;33m\u001b[0m\u001b[0m\n\u001b[0m",
      "\u001b[1;31mAttributeError\u001b[0m: 'DataFrame' object has no attribute 'unique_parties'"
     ]
    }
   ],
   "source": []
  },
  {
   "cell_type": "markdown",
   "metadata": {},
   "source": [
    "1. Winning Parties:\n",
    "This analysis identifies the parties that have won the most seats in the parliamentary elections. It helps understand which parties have the highest representation.Here BJP Won 240 seats,NDA was the Cross the Magic Figure to Form the Government. "
   ]
  },
  {
   "cell_type": "code",
   "execution_count": null,
   "metadata": {},
   "outputs": [
    {
     "data": {
      "application/vnd.plotly.v1+json": {
       "config": {
        "plotlyServerURL": "https://plot.ly"
       },
       "data": [
        {
         "type": "bar",
         "x": [
          "Bharatiya Janata Party",
          "Indian National Congress",
          "Samajwadi Party",
          "All India Trinamool Congress",
          "Dravida Munnetra Kazhagam",
          "Telugu Desam",
          "United",
          "Uddhav Balasaheb Thackrey",
          "Nationalist Congress Party – Sharadchandra Pawar",
          "Independent",
          "Shiv Sena",
          "Ram Vilas",
          "Rashtriya Janata Dal",
          "Marxist",
          "Yuvajana Sramika Rythu Congress Party",
          "Indian Union Muslim League",
          "Aam Aadmi Party",
          "Jharkhand Mukti Morcha",
          "Secular",
          "Rashtriya Lok Dal",
          "Jammu & Kashmir National Conference",
          "Viduthalai Chiruthaigal Katchi",
          "Communist Party of India",
          "Janasena Party",
          "Liberation",
          "Bharat Adivasi Party",
          "All India Majlis-E-Ittehadul Muslimeen",
          "AJSU Party",
          "Soneylal",
          "Kanshi Ram",
          "Marumalarchi Dravida Munnetra Kazhagam",
          "Sikkim Krantikari Morcha",
          "Shiromani Akali Dal",
          "Rashtriya Loktantrik Party",
          "Zoram People’s Movement",
          "Voice of the People Party",
          "Nationalist Congress Party",
          "Revolutionary Socialist Party",
          "Kerala Congress",
          "United People’s Party, Liberal",
          "Asom Gana Parishad"
         ],
         "y": [
          240,
          99,
          37,
          29,
          22,
          16,
          12,
          9,
          8,
          7,
          7,
          5,
          4,
          4,
          4,
          3,
          3,
          3,
          3,
          2,
          2,
          2,
          2,
          2,
          2,
          1,
          1,
          1,
          1,
          1,
          1,
          1,
          1,
          1,
          1,
          1,
          1,
          1,
          1,
          1,
          1
         ]
        }
       ],
       "layout": {
        "template": {
         "data": {
          "bar": [
           {
            "error_x": {
             "color": "#2a3f5f"
            },
            "error_y": {
             "color": "#2a3f5f"
            },
            "marker": {
             "line": {
              "color": "#E5ECF6",
              "width": 0.5
             },
             "pattern": {
              "fillmode": "overlay",
              "size": 10,
              "solidity": 0.2
             }
            },
            "type": "bar"
           }
          ],
          "barpolar": [
           {
            "marker": {
             "line": {
              "color": "#E5ECF6",
              "width": 0.5
             },
             "pattern": {
              "fillmode": "overlay",
              "size": 10,
              "solidity": 0.2
             }
            },
            "type": "barpolar"
           }
          ],
          "carpet": [
           {
            "aaxis": {
             "endlinecolor": "#2a3f5f",
             "gridcolor": "white",
             "linecolor": "white",
             "minorgridcolor": "white",
             "startlinecolor": "#2a3f5f"
            },
            "baxis": {
             "endlinecolor": "#2a3f5f",
             "gridcolor": "white",
             "linecolor": "white",
             "minorgridcolor": "white",
             "startlinecolor": "#2a3f5f"
            },
            "type": "carpet"
           }
          ],
          "choropleth": [
           {
            "colorbar": {
             "outlinewidth": 0,
             "ticks": ""
            },
            "type": "choropleth"
           }
          ],
          "contour": [
           {
            "colorbar": {
             "outlinewidth": 0,
             "ticks": ""
            },
            "colorscale": [
             [
              0,
              "#0d0887"
             ],
             [
              0.1111111111111111,
              "#46039f"
             ],
             [
              0.2222222222222222,
              "#7201a8"
             ],
             [
              0.3333333333333333,
              "#9c179e"
             ],
             [
              0.4444444444444444,
              "#bd3786"
             ],
             [
              0.5555555555555556,
              "#d8576b"
             ],
             [
              0.6666666666666666,
              "#ed7953"
             ],
             [
              0.7777777777777778,
              "#fb9f3a"
             ],
             [
              0.8888888888888888,
              "#fdca26"
             ],
             [
              1,
              "#f0f921"
             ]
            ],
            "type": "contour"
           }
          ],
          "contourcarpet": [
           {
            "colorbar": {
             "outlinewidth": 0,
             "ticks": ""
            },
            "type": "contourcarpet"
           }
          ],
          "heatmap": [
           {
            "colorbar": {
             "outlinewidth": 0,
             "ticks": ""
            },
            "colorscale": [
             [
              0,
              "#0d0887"
             ],
             [
              0.1111111111111111,
              "#46039f"
             ],
             [
              0.2222222222222222,
              "#7201a8"
             ],
             [
              0.3333333333333333,
              "#9c179e"
             ],
             [
              0.4444444444444444,
              "#bd3786"
             ],
             [
              0.5555555555555556,
              "#d8576b"
             ],
             [
              0.6666666666666666,
              "#ed7953"
             ],
             [
              0.7777777777777778,
              "#fb9f3a"
             ],
             [
              0.8888888888888888,
              "#fdca26"
             ],
             [
              1,
              "#f0f921"
             ]
            ],
            "type": "heatmap"
           }
          ],
          "heatmapgl": [
           {
            "colorbar": {
             "outlinewidth": 0,
             "ticks": ""
            },
            "colorscale": [
             [
              0,
              "#0d0887"
             ],
             [
              0.1111111111111111,
              "#46039f"
             ],
             [
              0.2222222222222222,
              "#7201a8"
             ],
             [
              0.3333333333333333,
              "#9c179e"
             ],
             [
              0.4444444444444444,
              "#bd3786"
             ],
             [
              0.5555555555555556,
              "#d8576b"
             ],
             [
              0.6666666666666666,
              "#ed7953"
             ],
             [
              0.7777777777777778,
              "#fb9f3a"
             ],
             [
              0.8888888888888888,
              "#fdca26"
             ],
             [
              1,
              "#f0f921"
             ]
            ],
            "type": "heatmapgl"
           }
          ],
          "histogram": [
           {
            "marker": {
             "pattern": {
              "fillmode": "overlay",
              "size": 10,
              "solidity": 0.2
             }
            },
            "type": "histogram"
           }
          ],
          "histogram2d": [
           {
            "colorbar": {
             "outlinewidth": 0,
             "ticks": ""
            },
            "colorscale": [
             [
              0,
              "#0d0887"
             ],
             [
              0.1111111111111111,
              "#46039f"
             ],
             [
              0.2222222222222222,
              "#7201a8"
             ],
             [
              0.3333333333333333,
              "#9c179e"
             ],
             [
              0.4444444444444444,
              "#bd3786"
             ],
             [
              0.5555555555555556,
              "#d8576b"
             ],
             [
              0.6666666666666666,
              "#ed7953"
             ],
             [
              0.7777777777777778,
              "#fb9f3a"
             ],
             [
              0.8888888888888888,
              "#fdca26"
             ],
             [
              1,
              "#f0f921"
             ]
            ],
            "type": "histogram2d"
           }
          ],
          "histogram2dcontour": [
           {
            "colorbar": {
             "outlinewidth": 0,
             "ticks": ""
            },
            "colorscale": [
             [
              0,
              "#0d0887"
             ],
             [
              0.1111111111111111,
              "#46039f"
             ],
             [
              0.2222222222222222,
              "#7201a8"
             ],
             [
              0.3333333333333333,
              "#9c179e"
             ],
             [
              0.4444444444444444,
              "#bd3786"
             ],
             [
              0.5555555555555556,
              "#d8576b"
             ],
             [
              0.6666666666666666,
              "#ed7953"
             ],
             [
              0.7777777777777778,
              "#fb9f3a"
             ],
             [
              0.8888888888888888,
              "#fdca26"
             ],
             [
              1,
              "#f0f921"
             ]
            ],
            "type": "histogram2dcontour"
           }
          ],
          "mesh3d": [
           {
            "colorbar": {
             "outlinewidth": 0,
             "ticks": ""
            },
            "type": "mesh3d"
           }
          ],
          "parcoords": [
           {
            "line": {
             "colorbar": {
              "outlinewidth": 0,
              "ticks": ""
             }
            },
            "type": "parcoords"
           }
          ],
          "pie": [
           {
            "automargin": true,
            "type": "pie"
           }
          ],
          "scatter": [
           {
            "fillpattern": {
             "fillmode": "overlay",
             "size": 10,
             "solidity": 0.2
            },
            "type": "scatter"
           }
          ],
          "scatter3d": [
           {
            "line": {
             "colorbar": {
              "outlinewidth": 0,
              "ticks": ""
             }
            },
            "marker": {
             "colorbar": {
              "outlinewidth": 0,
              "ticks": ""
             }
            },
            "type": "scatter3d"
           }
          ],
          "scattercarpet": [
           {
            "marker": {
             "colorbar": {
              "outlinewidth": 0,
              "ticks": ""
             }
            },
            "type": "scattercarpet"
           }
          ],
          "scattergeo": [
           {
            "marker": {
             "colorbar": {
              "outlinewidth": 0,
              "ticks": ""
             }
            },
            "type": "scattergeo"
           }
          ],
          "scattergl": [
           {
            "marker": {
             "colorbar": {
              "outlinewidth": 0,
              "ticks": ""
             }
            },
            "type": "scattergl"
           }
          ],
          "scattermapbox": [
           {
            "marker": {
             "colorbar": {
              "outlinewidth": 0,
              "ticks": ""
             }
            },
            "type": "scattermapbox"
           }
          ],
          "scatterpolar": [
           {
            "marker": {
             "colorbar": {
              "outlinewidth": 0,
              "ticks": ""
             }
            },
            "type": "scatterpolar"
           }
          ],
          "scatterpolargl": [
           {
            "marker": {
             "colorbar": {
              "outlinewidth": 0,
              "ticks": ""
             }
            },
            "type": "scatterpolargl"
           }
          ],
          "scatterternary": [
           {
            "marker": {
             "colorbar": {
              "outlinewidth": 0,
              "ticks": ""
             }
            },
            "type": "scatterternary"
           }
          ],
          "surface": [
           {
            "colorbar": {
             "outlinewidth": 0,
             "ticks": ""
            },
            "colorscale": [
             [
              0,
              "#0d0887"
             ],
             [
              0.1111111111111111,
              "#46039f"
             ],
             [
              0.2222222222222222,
              "#7201a8"
             ],
             [
              0.3333333333333333,
              "#9c179e"
             ],
             [
              0.4444444444444444,
              "#bd3786"
             ],
             [
              0.5555555555555556,
              "#d8576b"
             ],
             [
              0.6666666666666666,
              "#ed7953"
             ],
             [
              0.7777777777777778,
              "#fb9f3a"
             ],
             [
              0.8888888888888888,
              "#fdca26"
             ],
             [
              1,
              "#f0f921"
             ]
            ],
            "type": "surface"
           }
          ],
          "table": [
           {
            "cells": {
             "fill": {
              "color": "#EBF0F8"
             },
             "line": {
              "color": "white"
             }
            },
            "header": {
             "fill": {
              "color": "#C8D4E3"
             },
             "line": {
              "color": "white"
             }
            },
            "type": "table"
           }
          ]
         },
         "layout": {
          "annotationdefaults": {
           "arrowcolor": "#2a3f5f",
           "arrowhead": 0,
           "arrowwidth": 1
          },
          "autotypenumbers": "strict",
          "coloraxis": {
           "colorbar": {
            "outlinewidth": 0,
            "ticks": ""
           }
          },
          "colorscale": {
           "diverging": [
            [
             0,
             "#8e0152"
            ],
            [
             0.1,
             "#c51b7d"
            ],
            [
             0.2,
             "#de77ae"
            ],
            [
             0.3,
             "#f1b6da"
            ],
            [
             0.4,
             "#fde0ef"
            ],
            [
             0.5,
             "#f7f7f7"
            ],
            [
             0.6,
             "#e6f5d0"
            ],
            [
             0.7,
             "#b8e186"
            ],
            [
             0.8,
             "#7fbc41"
            ],
            [
             0.9,
             "#4d9221"
            ],
            [
             1,
             "#276419"
            ]
           ],
           "sequential": [
            [
             0,
             "#0d0887"
            ],
            [
             0.1111111111111111,
             "#46039f"
            ],
            [
             0.2222222222222222,
             "#7201a8"
            ],
            [
             0.3333333333333333,
             "#9c179e"
            ],
            [
             0.4444444444444444,
             "#bd3786"
            ],
            [
             0.5555555555555556,
             "#d8576b"
            ],
            [
             0.6666666666666666,
             "#ed7953"
            ],
            [
             0.7777777777777778,
             "#fb9f3a"
            ],
            [
             0.8888888888888888,
             "#fdca26"
            ],
            [
             1,
             "#f0f921"
            ]
           ],
           "sequentialminus": [
            [
             0,
             "#0d0887"
            ],
            [
             0.1111111111111111,
             "#46039f"
            ],
            [
             0.2222222222222222,
             "#7201a8"
            ],
            [
             0.3333333333333333,
             "#9c179e"
            ],
            [
             0.4444444444444444,
             "#bd3786"
            ],
            [
             0.5555555555555556,
             "#d8576b"
            ],
            [
             0.6666666666666666,
             "#ed7953"
            ],
            [
             0.7777777777777778,
             "#fb9f3a"
            ],
            [
             0.8888888888888888,
             "#fdca26"
            ],
            [
             1,
             "#f0f921"
            ]
           ]
          },
          "colorway": [
           "#636efa",
           "#EF553B",
           "#00cc96",
           "#ab63fa",
           "#FFA15A",
           "#19d3f3",
           "#FF6692",
           "#B6E880",
           "#FF97FF",
           "#FECB52"
          ],
          "font": {
           "color": "#2a3f5f"
          },
          "geo": {
           "bgcolor": "white",
           "lakecolor": "white",
           "landcolor": "#E5ECF6",
           "showlakes": true,
           "showland": true,
           "subunitcolor": "white"
          },
          "hoverlabel": {
           "align": "left"
          },
          "hovermode": "closest",
          "mapbox": {
           "style": "light"
          },
          "paper_bgcolor": "white",
          "plot_bgcolor": "#E5ECF6",
          "polar": {
           "angularaxis": {
            "gridcolor": "white",
            "linecolor": "white",
            "ticks": ""
           },
           "bgcolor": "#E5ECF6",
           "radialaxis": {
            "gridcolor": "white",
            "linecolor": "white",
            "ticks": ""
           }
          },
          "scene": {
           "xaxis": {
            "backgroundcolor": "#E5ECF6",
            "gridcolor": "white",
            "gridwidth": 2,
            "linecolor": "white",
            "showbackground": true,
            "ticks": "",
            "zerolinecolor": "white"
           },
           "yaxis": {
            "backgroundcolor": "#E5ECF6",
            "gridcolor": "white",
            "gridwidth": 2,
            "linecolor": "white",
            "showbackground": true,
            "ticks": "",
            "zerolinecolor": "white"
           },
           "zaxis": {
            "backgroundcolor": "#E5ECF6",
            "gridcolor": "white",
            "gridwidth": 2,
            "linecolor": "white",
            "showbackground": true,
            "ticks": "",
            "zerolinecolor": "white"
           }
          },
          "shapedefaults": {
           "line": {
            "color": "#2a3f5f"
           }
          },
          "ternary": {
           "aaxis": {
            "gridcolor": "white",
            "linecolor": "white",
            "ticks": ""
           },
           "baxis": {
            "gridcolor": "white",
            "linecolor": "white",
            "ticks": ""
           },
           "bgcolor": "#E5ECF6",
           "caxis": {
            "gridcolor": "white",
            "linecolor": "white",
            "ticks": ""
           }
          },
          "title": {
           "x": 0.05
          },
          "xaxis": {
           "automargin": true,
           "gridcolor": "white",
           "linecolor": "white",
           "ticks": "",
           "title": {
            "standoff": 15
           },
           "zerolinecolor": "white",
           "zerolinewidth": 2
          },
          "yaxis": {
           "automargin": true,
           "gridcolor": "white",
           "linecolor": "white",
           "ticks": "",
           "title": {
            "standoff": 15
           },
           "zerolinecolor": "white",
           "zerolinewidth": 2
          }
         }
        },
        "title": {
         "text": "Number of Seats Won by Each Party"
        },
        "xaxis": {
         "title": {
          "text": "Party"
         }
        },
        "yaxis": {
         "title": {
          "text": "Number of Seats"
         }
        }
       }
      }
     },
     "metadata": {},
     "output_type": "display_data"
    }
   ],
   "source": [
    "import pandas as pd\n",
    "import plotly.graph_objects as go\n",
    "df = pd.DataFrame(data)\n",
    "party_counts = df['Winning Party'].value_counts()\n",
    "fig = go.Figure(data=[go.Bar(x=party_counts.index, y=party_counts.values)])\n",
    "fig.update_layout(\n",
    "    title='Number of Seats Won by Each Party',\n",
    "    xaxis_title='Party',\n",
    "    yaxis_title='Number of Seats'\n",
    ")\n",
    "fig.show()\n"
   ]
  },
  {
   "cell_type": "markdown",
   "metadata": {},
   "source": [
    "2. Margin of Victory:\n",
    "This insight highlights the constituencies with the largest and smallest margins of victory, providing context on the competitiveness of elections in different areas."
   ]
  },
  {
   "cell_type": "code",
   "execution_count": null,
   "metadata": {},
   "outputs": [
    {
     "name": "stdout",
     "output_type": "stream",
     "text": [
      "Largest Margin of Victory: INDORE(26) with 1175092.0 votes\n",
      "Smallest Margin of Victory: Mumbai North West(27) with 48.0 votes\n"
     ]
    }
   ],
   "source": [
    "# Constituency with the largest margin of victory\n",
    "max_margin_idx = df['Margin'].idxmax()\n",
    "max_margin_constituency = df.loc[max_margin_idx, 'Parliament Constituency']\n",
    "max_margin_value = df.loc[max_margin_idx, 'Margin']\n",
    "\n",
    "# Constituency with the smallest margin of victory\n",
    "min_margin_idx = df['Margin'].idxmin()\n",
    "min_margin_constituency = df.loc[min_margin_idx, 'Parliament Constituency']\n",
    "min_margin_value = df.loc[min_margin_idx, 'Margin']\n",
    "\n",
    "print(f\"Largest Margin of Victory: {max_margin_constituency} with {max_margin_value} votes\")\n",
    "print(f\"Smallest Margin of Victory: {min_margin_constituency} with {min_margin_value} votes\")\n"
   ]
  },
  {
   "cell_type": "markdown",
   "metadata": {},
   "source": [
    "3. Total Votes Analysis\n",
    "This analysis gives an overview of the total number of votes received by each winning party, indicating their overall popularity and support."
   ]
  },
  {
   "cell_type": "code",
   "execution_count": null,
   "metadata": {},
   "outputs": [
    {
     "data": {
      "application/vnd.plotly.v1+json": {
       "config": {
        "plotlyServerURL": "https://plot.ly"
       },
       "data": [
        {
         "orientation": "h",
         "type": "bar",
         "x": [
          157039540,
          54233901,
          20185370,
          18826855,
          12232822,
          11754710,
          6335123,
          4971873,
          4772796,
          3815530,
          2810250,
          2421977,
          2359220,
          2163219,
          2038322,
          1960230,
          1716186,
          1680905,
          1454138,
          982117,
          981161,
          937783,
          909963,
          893460,
          878702,
          860113,
          820831,
          661981,
          596955,
          571078,
          542213,
          512552,
          508352,
          488995,
          471631,
          451139,
          443628,
          376558,
          364631,
          208552,
          164396
         ],
         "y": [
          "Bharatiya Janata Party",
          "Indian National Congress",
          "All India Trinamool Congress",
          "Samajwadi Party",
          "Telugu Desam",
          "Dravida Munnetra Kazhagam",
          "United",
          "Nationalist Congress Party – Sharadchandra Pawar",
          "Uddhav Balasaheb Thackrey",
          "Shiv Sena",
          "Ram Vilas",
          "Independent",
          "Yuvajana Sramika Rythu Congress Party",
          "Marxist",
          "Secular",
          "Rashtriya Janata Dal",
          "Indian Union Muslim League",
          "Jharkhand Mukti Morcha",
          "Janasena Party",
          "Viduthalai Chiruthaigal Katchi",
          "Aam Aadmi Party",
          "Communist Party of India",
          "Liberation",
          "Rashtriya Lok Dal",
          "Jammu & Kashmir National Conference",
          "Asom Gana Parishad",
          "Bharat Adivasi Party",
          "All India Majlis-E-Ittehadul Muslimeen",
          "Rashtriya Loktantrik Party",
          "Voice of the People Party",
          "Marumalarchi Dravida Munnetra Kazhagam",
          "Kanshi Ram",
          "Nationalist Congress Party",
          "United People’s Party, Liberal",
          "Soneylal",
          "AJSU Party",
          "Revolutionary Socialist Party",
          "Shiromani Akali Dal",
          "Kerala Congress",
          "Zoram People’s Movement",
          "Sikkim Krantikari Morcha"
         ]
        }
       ],
       "layout": {
        "height": 600,
        "margin": {
         "l": 1
        },
        "template": {
         "data": {
          "bar": [
           {
            "error_x": {
             "color": "#2a3f5f"
            },
            "error_y": {
             "color": "#2a3f5f"
            },
            "marker": {
             "line": {
              "color": "#E5ECF6",
              "width": 0.5
             },
             "pattern": {
              "fillmode": "overlay",
              "size": 10,
              "solidity": 0.2
             }
            },
            "type": "bar"
           }
          ],
          "barpolar": [
           {
            "marker": {
             "line": {
              "color": "#E5ECF6",
              "width": 0.5
             },
             "pattern": {
              "fillmode": "overlay",
              "size": 10,
              "solidity": 0.2
             }
            },
            "type": "barpolar"
           }
          ],
          "carpet": [
           {
            "aaxis": {
             "endlinecolor": "#2a3f5f",
             "gridcolor": "white",
             "linecolor": "white",
             "minorgridcolor": "white",
             "startlinecolor": "#2a3f5f"
            },
            "baxis": {
             "endlinecolor": "#2a3f5f",
             "gridcolor": "white",
             "linecolor": "white",
             "minorgridcolor": "white",
             "startlinecolor": "#2a3f5f"
            },
            "type": "carpet"
           }
          ],
          "choropleth": [
           {
            "colorbar": {
             "outlinewidth": 0,
             "ticks": ""
            },
            "type": "choropleth"
           }
          ],
          "contour": [
           {
            "colorbar": {
             "outlinewidth": 0,
             "ticks": ""
            },
            "colorscale": [
             [
              0,
              "#0d0887"
             ],
             [
              0.1111111111111111,
              "#46039f"
             ],
             [
              0.2222222222222222,
              "#7201a8"
             ],
             [
              0.3333333333333333,
              "#9c179e"
             ],
             [
              0.4444444444444444,
              "#bd3786"
             ],
             [
              0.5555555555555556,
              "#d8576b"
             ],
             [
              0.6666666666666666,
              "#ed7953"
             ],
             [
              0.7777777777777778,
              "#fb9f3a"
             ],
             [
              0.8888888888888888,
              "#fdca26"
             ],
             [
              1,
              "#f0f921"
             ]
            ],
            "type": "contour"
           }
          ],
          "contourcarpet": [
           {
            "colorbar": {
             "outlinewidth": 0,
             "ticks": ""
            },
            "type": "contourcarpet"
           }
          ],
          "heatmap": [
           {
            "colorbar": {
             "outlinewidth": 0,
             "ticks": ""
            },
            "colorscale": [
             [
              0,
              "#0d0887"
             ],
             [
              0.1111111111111111,
              "#46039f"
             ],
             [
              0.2222222222222222,
              "#7201a8"
             ],
             [
              0.3333333333333333,
              "#9c179e"
             ],
             [
              0.4444444444444444,
              "#bd3786"
             ],
             [
              0.5555555555555556,
              "#d8576b"
             ],
             [
              0.6666666666666666,
              "#ed7953"
             ],
             [
              0.7777777777777778,
              "#fb9f3a"
             ],
             [
              0.8888888888888888,
              "#fdca26"
             ],
             [
              1,
              "#f0f921"
             ]
            ],
            "type": "heatmap"
           }
          ],
          "heatmapgl": [
           {
            "colorbar": {
             "outlinewidth": 0,
             "ticks": ""
            },
            "colorscale": [
             [
              0,
              "#0d0887"
             ],
             [
              0.1111111111111111,
              "#46039f"
             ],
             [
              0.2222222222222222,
              "#7201a8"
             ],
             [
              0.3333333333333333,
              "#9c179e"
             ],
             [
              0.4444444444444444,
              "#bd3786"
             ],
             [
              0.5555555555555556,
              "#d8576b"
             ],
             [
              0.6666666666666666,
              "#ed7953"
             ],
             [
              0.7777777777777778,
              "#fb9f3a"
             ],
             [
              0.8888888888888888,
              "#fdca26"
             ],
             [
              1,
              "#f0f921"
             ]
            ],
            "type": "heatmapgl"
           }
          ],
          "histogram": [
           {
            "marker": {
             "pattern": {
              "fillmode": "overlay",
              "size": 10,
              "solidity": 0.2
             }
            },
            "type": "histogram"
           }
          ],
          "histogram2d": [
           {
            "colorbar": {
             "outlinewidth": 0,
             "ticks": ""
            },
            "colorscale": [
             [
              0,
              "#0d0887"
             ],
             [
              0.1111111111111111,
              "#46039f"
             ],
             [
              0.2222222222222222,
              "#7201a8"
             ],
             [
              0.3333333333333333,
              "#9c179e"
             ],
             [
              0.4444444444444444,
              "#bd3786"
             ],
             [
              0.5555555555555556,
              "#d8576b"
             ],
             [
              0.6666666666666666,
              "#ed7953"
             ],
             [
              0.7777777777777778,
              "#fb9f3a"
             ],
             [
              0.8888888888888888,
              "#fdca26"
             ],
             [
              1,
              "#f0f921"
             ]
            ],
            "type": "histogram2d"
           }
          ],
          "histogram2dcontour": [
           {
            "colorbar": {
             "outlinewidth": 0,
             "ticks": ""
            },
            "colorscale": [
             [
              0,
              "#0d0887"
             ],
             [
              0.1111111111111111,
              "#46039f"
             ],
             [
              0.2222222222222222,
              "#7201a8"
             ],
             [
              0.3333333333333333,
              "#9c179e"
             ],
             [
              0.4444444444444444,
              "#bd3786"
             ],
             [
              0.5555555555555556,
              "#d8576b"
             ],
             [
              0.6666666666666666,
              "#ed7953"
             ],
             [
              0.7777777777777778,
              "#fb9f3a"
             ],
             [
              0.8888888888888888,
              "#fdca26"
             ],
             [
              1,
              "#f0f921"
             ]
            ],
            "type": "histogram2dcontour"
           }
          ],
          "mesh3d": [
           {
            "colorbar": {
             "outlinewidth": 0,
             "ticks": ""
            },
            "type": "mesh3d"
           }
          ],
          "parcoords": [
           {
            "line": {
             "colorbar": {
              "outlinewidth": 0,
              "ticks": ""
             }
            },
            "type": "parcoords"
           }
          ],
          "pie": [
           {
            "automargin": true,
            "type": "pie"
           }
          ],
          "scatter": [
           {
            "fillpattern": {
             "fillmode": "overlay",
             "size": 10,
             "solidity": 0.2
            },
            "type": "scatter"
           }
          ],
          "scatter3d": [
           {
            "line": {
             "colorbar": {
              "outlinewidth": 0,
              "ticks": ""
             }
            },
            "marker": {
             "colorbar": {
              "outlinewidth": 0,
              "ticks": ""
             }
            },
            "type": "scatter3d"
           }
          ],
          "scattercarpet": [
           {
            "marker": {
             "colorbar": {
              "outlinewidth": 0,
              "ticks": ""
             }
            },
            "type": "scattercarpet"
           }
          ],
          "scattergeo": [
           {
            "marker": {
             "colorbar": {
              "outlinewidth": 0,
              "ticks": ""
             }
            },
            "type": "scattergeo"
           }
          ],
          "scattergl": [
           {
            "marker": {
             "colorbar": {
              "outlinewidth": 0,
              "ticks": ""
             }
            },
            "type": "scattergl"
           }
          ],
          "scattermapbox": [
           {
            "marker": {
             "colorbar": {
              "outlinewidth": 0,
              "ticks": ""
             }
            },
            "type": "scattermapbox"
           }
          ],
          "scatterpolar": [
           {
            "marker": {
             "colorbar": {
              "outlinewidth": 0,
              "ticks": ""
             }
            },
            "type": "scatterpolar"
           }
          ],
          "scatterpolargl": [
           {
            "marker": {
             "colorbar": {
              "outlinewidth": 0,
              "ticks": ""
             }
            },
            "type": "scatterpolargl"
           }
          ],
          "scatterternary": [
           {
            "marker": {
             "colorbar": {
              "outlinewidth": 0,
              "ticks": ""
             }
            },
            "type": "scatterternary"
           }
          ],
          "surface": [
           {
            "colorbar": {
             "outlinewidth": 0,
             "ticks": ""
            },
            "colorscale": [
             [
              0,
              "#0d0887"
             ],
             [
              0.1111111111111111,
              "#46039f"
             ],
             [
              0.2222222222222222,
              "#7201a8"
             ],
             [
              0.3333333333333333,
              "#9c179e"
             ],
             [
              0.4444444444444444,
              "#bd3786"
             ],
             [
              0.5555555555555556,
              "#d8576b"
             ],
             [
              0.6666666666666666,
              "#ed7953"
             ],
             [
              0.7777777777777778,
              "#fb9f3a"
             ],
             [
              0.8888888888888888,
              "#fdca26"
             ],
             [
              1,
              "#f0f921"
             ]
            ],
            "type": "surface"
           }
          ],
          "table": [
           {
            "cells": {
             "fill": {
              "color": "#EBF0F8"
             },
             "line": {
              "color": "white"
             }
            },
            "header": {
             "fill": {
              "color": "#C8D4E3"
             },
             "line": {
              "color": "white"
             }
            },
            "type": "table"
           }
          ]
         },
         "layout": {
          "annotationdefaults": {
           "arrowcolor": "#2a3f5f",
           "arrowhead": 0,
           "arrowwidth": 1
          },
          "autotypenumbers": "strict",
          "coloraxis": {
           "colorbar": {
            "outlinewidth": 0,
            "ticks": ""
           }
          },
          "colorscale": {
           "diverging": [
            [
             0,
             "#8e0152"
            ],
            [
             0.1,
             "#c51b7d"
            ],
            [
             0.2,
             "#de77ae"
            ],
            [
             0.3,
             "#f1b6da"
            ],
            [
             0.4,
             "#fde0ef"
            ],
            [
             0.5,
             "#f7f7f7"
            ],
            [
             0.6,
             "#e6f5d0"
            ],
            [
             0.7,
             "#b8e186"
            ],
            [
             0.8,
             "#7fbc41"
            ],
            [
             0.9,
             "#4d9221"
            ],
            [
             1,
             "#276419"
            ]
           ],
           "sequential": [
            [
             0,
             "#0d0887"
            ],
            [
             0.1111111111111111,
             "#46039f"
            ],
            [
             0.2222222222222222,
             "#7201a8"
            ],
            [
             0.3333333333333333,
             "#9c179e"
            ],
            [
             0.4444444444444444,
             "#bd3786"
            ],
            [
             0.5555555555555556,
             "#d8576b"
            ],
            [
             0.6666666666666666,
             "#ed7953"
            ],
            [
             0.7777777777777778,
             "#fb9f3a"
            ],
            [
             0.8888888888888888,
             "#fdca26"
            ],
            [
             1,
             "#f0f921"
            ]
           ],
           "sequentialminus": [
            [
             0,
             "#0d0887"
            ],
            [
             0.1111111111111111,
             "#46039f"
            ],
            [
             0.2222222222222222,
             "#7201a8"
            ],
            [
             0.3333333333333333,
             "#9c179e"
            ],
            [
             0.4444444444444444,
             "#bd3786"
            ],
            [
             0.5555555555555556,
             "#d8576b"
            ],
            [
             0.6666666666666666,
             "#ed7953"
            ],
            [
             0.7777777777777778,
             "#fb9f3a"
            ],
            [
             0.8888888888888888,
             "#fdca26"
            ],
            [
             1,
             "#f0f921"
            ]
           ]
          },
          "colorway": [
           "#636efa",
           "#EF553B",
           "#00cc96",
           "#ab63fa",
           "#FFA15A",
           "#19d3f3",
           "#FF6692",
           "#B6E880",
           "#FF97FF",
           "#FECB52"
          ],
          "font": {
           "color": "#2a3f5f"
          },
          "geo": {
           "bgcolor": "white",
           "lakecolor": "white",
           "landcolor": "#E5ECF6",
           "showlakes": true,
           "showland": true,
           "subunitcolor": "white"
          },
          "hoverlabel": {
           "align": "left"
          },
          "hovermode": "closest",
          "mapbox": {
           "style": "light"
          },
          "paper_bgcolor": "white",
          "plot_bgcolor": "#E5ECF6",
          "polar": {
           "angularaxis": {
            "gridcolor": "white",
            "linecolor": "white",
            "ticks": ""
           },
           "bgcolor": "#E5ECF6",
           "radialaxis": {
            "gridcolor": "white",
            "linecolor": "white",
            "ticks": ""
           }
          },
          "scene": {
           "xaxis": {
            "backgroundcolor": "#E5ECF6",
            "gridcolor": "white",
            "gridwidth": 2,
            "linecolor": "white",
            "showbackground": true,
            "ticks": "",
            "zerolinecolor": "white"
           },
           "yaxis": {
            "backgroundcolor": "#E5ECF6",
            "gridcolor": "white",
            "gridwidth": 2,
            "linecolor": "white",
            "showbackground": true,
            "ticks": "",
            "zerolinecolor": "white"
           },
           "zaxis": {
            "backgroundcolor": "#E5ECF6",
            "gridcolor": "white",
            "gridwidth": 2,
            "linecolor": "white",
            "showbackground": true,
            "ticks": "",
            "zerolinecolor": "white"
           }
          },
          "shapedefaults": {
           "line": {
            "color": "#2a3f5f"
           }
          },
          "ternary": {
           "aaxis": {
            "gridcolor": "white",
            "linecolor": "white",
            "ticks": ""
           },
           "baxis": {
            "gridcolor": "white",
            "linecolor": "white",
            "ticks": ""
           },
           "bgcolor": "#E5ECF6",
           "caxis": {
            "gridcolor": "white",
            "linecolor": "white",
            "ticks": ""
           }
          },
          "title": {
           "x": 0.05
          },
          "xaxis": {
           "automargin": true,
           "gridcolor": "white",
           "linecolor": "white",
           "ticks": "",
           "title": {
            "standoff": 15
           },
           "zerolinecolor": "white",
           "zerolinewidth": 2
          },
          "yaxis": {
           "automargin": true,
           "gridcolor": "white",
           "linecolor": "white",
           "ticks": "",
           "title": {
            "standoff": 15
           },
           "zerolinecolor": "white",
           "zerolinewidth": 2
          }
         }
        },
        "title": {
         "text": "Total Votes Received by Each Winning Party"
        },
        "xaxis": {
         "title": {
          "text": "Total Votes"
         }
        },
        "yaxis": {
         "categoryorder": "total ascending",
         "title": {
          "text": "Winning Party"
         }
        }
       }
      }
     },
     "metadata": {},
     "output_type": "display_data"
    }
   ],
   "source": [
    "\n",
    "df = pd.DataFrame(data)\n",
    "\n",
    "# Calculate total votes received by each winning party\n",
    "total_votes_by_party = df.groupby('Winning Party')['Total Votes'].sum().reset_index()\n",
    "\n",
    "# Sort by total votes descending for better visualization\n",
    "total_votes_by_party = total_votes_by_party.sort_values(by='Total Votes', ascending=False)\n",
    "\n",
    "# Create Plotly horizontal bar chart\n",
    "fig = go.Figure(go.Bar(\n",
    "    x=total_votes_by_party['Total Votes'],\n",
    "    y=total_votes_by_party['Winning Party'],\n",
    "    orientation='h'  # Horizontal orientation\n",
    "))\n",
    "\n",
    "# Customize layout\n",
    "fig.update_layout(\n",
    "    title='Total Votes Received by Each Winning Party',\n",
    "    xaxis_title='Total Votes',\n",
    "    yaxis_title='Winning Party',\n",
    "    yaxis_categoryorder='total ascending',  # Sort by total votes ascending\n",
    "    height=600,  # Adjust height as needed for better viewing\n",
    "    margin=dict(l=1),  # Adjust left margin for longer party names\n",
    ")\n",
    "\n",
    "# Show interactive plot\n",
    "fig.show()\n"
   ]
  },
  {
   "cell_type": "markdown",
   "metadata": {},
   "source": [
    "4. Party Performance: It shows the Total votes Recevied,Total Margin , Total No of seats Won are shown."
   ]
  },
  {
   "cell_type": "code",
   "execution_count": null,
   "metadata": {},
   "outputs": [
    {
     "name": "stdout",
     "output_type": "stream",
     "text": [
      "Party Comparison:\n",
      "                                                  Total Votes         Margin  \\\n",
      "Winning Party                                                                  \n",
      "AJSU Party                                           451139.0   80880.000000   \n",
      "Aam Aadmi Party                                      981161.0   75839.000000   \n",
      "All India Majlis-E-Ittehadul Muslimeen               661981.0  338087.000000   \n",
      "All India Trinamool Congress                       20185370.0  169343.551724   \n",
      "Asom Gana Parishad                                   860113.0  222351.000000   \n",
      "Bharat Adivasi Party                                 820831.0  247054.000000   \n",
      "Bharatiya Janata Party                            157039540.0  192809.774059   \n",
      "Communist Party of India                             937783.0  167442.500000   \n",
      "Dravida Munnetra Kazhagam                          11754710.0  230981.000000   \n",
      "Independent                                         2421977.0   89900.285714   \n",
      "Indian National Congress                           54233901.0  131372.949495   \n",
      "Indian Union Muslim League                          1716186.0  234220.000000   \n",
      "Jammu & Kashmir National Conference                  878702.0  235105.000000   \n",
      "Janasena Party                                      1454138.0  226335.000000   \n",
      "Jharkhand Mukti Morcha                              1680905.0  123064.333333   \n",
      "Kanshi Ram                                           512552.0  151473.000000   \n",
      "Kerala Congress                                      364631.0   87266.000000   \n",
      "Liberation                                           909963.0   82833.000000   \n",
      "Marumalarchi Dravida Munnetra Kazhagam               542213.0  313094.000000   \n",
      "Marxist                                             2163219.0  186559.250000   \n",
      "Nationalist Congress Party                           508352.0   82784.000000   \n",
      "Nationalist Congress Party – Sharadchandra Pawar    4971873.0   89571.375000   \n",
      "Ram Vilas                                           2810250.0  144120.600000   \n",
      "Rashtriya Janata Dal                                1960230.0   84241.750000   \n",
      "Rashtriya Lok Dal                                    893460.0   98483.500000   \n",
      "Rashtriya Loktantrik Party                           596955.0   42225.000000   \n",
      "Revolutionary Socialist Party                        443628.0  150302.000000   \n",
      "Samajwadi Party                                    18826855.0   77555.837838   \n",
      "Secular                                             2038322.0  152606.666667   \n",
      "Shiromani Akali Dal                                  376558.0   49656.000000   \n",
      "Shiv Sena                                           3815530.0  100053.285714   \n",
      "Sikkim Krantikari Morcha                             164396.0   80830.000000   \n",
      "Soneylal                                             471631.0   37810.000000   \n",
      "Telugu Desam                                       12232822.0  228807.937500   \n",
      "Uddhav Balasaheb Thackrey                           4772796.0  112825.555556   \n",
      "United                                              6335123.0  115534.416667   \n",
      "United People’s Party, Liberal                       488995.0   51583.000000   \n",
      "Viduthalai Chiruthaigal Katchi                       982117.0   87128.500000   \n",
      "Voice of the People Party                            571078.0  371910.000000   \n",
      "Yuvajana Sramika Rythu Congress Party               2359220.0   50978.750000   \n",
      "Zoram People’s Movement                              208552.0   68288.000000   \n",
      "\n",
      "                                                  Total Seats Won  \n",
      "Winning Party                                                      \n",
      "AJSU Party                                                      1  \n",
      "Aam Aadmi Party                                                 3  \n",
      "All India Majlis-E-Ittehadul Muslimeen                          1  \n",
      "All India Trinamool Congress                                   29  \n",
      "Asom Gana Parishad                                              1  \n",
      "Bharat Adivasi Party                                            1  \n",
      "Bharatiya Janata Party                                        240  \n",
      "Communist Party of India                                        2  \n",
      "Dravida Munnetra Kazhagam                                      22  \n",
      "Independent                                                     7  \n",
      "Indian National Congress                                       99  \n",
      "Indian Union Muslim League                                      3  \n",
      "Jammu & Kashmir National Conference                             2  \n",
      "Janasena Party                                                  2  \n",
      "Jharkhand Mukti Morcha                                          3  \n",
      "Kanshi Ram                                                      1  \n",
      "Kerala Congress                                                 1  \n",
      "Liberation                                                      2  \n",
      "Marumalarchi Dravida Munnetra Kazhagam                          1  \n",
      "Marxist                                                         4  \n",
      "Nationalist Congress Party                                      1  \n",
      "Nationalist Congress Party – Sharadchandra Pawar                8  \n",
      "Ram Vilas                                                       5  \n",
      "Rashtriya Janata Dal                                            4  \n",
      "Rashtriya Lok Dal                                               2  \n",
      "Rashtriya Loktantrik Party                                      1  \n",
      "Revolutionary Socialist Party                                   1  \n",
      "Samajwadi Party                                                37  \n",
      "Secular                                                         3  \n",
      "Shiromani Akali Dal                                             1  \n",
      "Shiv Sena                                                       7  \n",
      "Sikkim Krantikari Morcha                                        1  \n",
      "Soneylal                                                        1  \n",
      "Telugu Desam                                                   16  \n",
      "Uddhav Balasaheb Thackrey                                       9  \n",
      "United                                                         12  \n",
      "United People’s Party, Liberal                                  1  \n",
      "Viduthalai Chiruthaigal Katchi                                  2  \n",
      "Voice of the People Party                                       1  \n",
      "Yuvajana Sramika Rythu Congress Party                           4  \n",
      "Zoram People’s Movement                                         1  \n"
     ]
    }
   ],
   "source": [
    "\n",
    "df = pd.DataFrame(data)\n",
    "\n",
    "# Calculate total votes and average margin for each winning party\n",
    "party_comparison = df.groupby('Winning Party').agg({\n",
    "    'Total Votes': 'sum',\n",
    "    'Margin': 'mean',\n",
    "    'Parliament Constituency': 'size'  # Count the number of constituencies won by each party\n",
    "})\n",
    "\n",
    "# Rename the size column to Total Seats Won\n",
    "party_comparison.rename(columns={'Parliament Constituency': 'Total Seats Won'}, inplace=True)\n",
    "\n",
    "# Print party comparison analysis\n",
    "print(\"Party Comparison:\")\n",
    "print(party_comparison)\n"
   ]
  },
  {
   "cell_type": "markdown",
   "metadata": {},
   "source": [
    "5. Top Performance: Print the Details of Candidate with Highest Margin and Highest Total Votes."
   ]
  },
  {
   "cell_type": "code",
   "execution_count": null,
   "metadata": {},
   "outputs": [
    {
     "name": "stdout",
     "output_type": "stream",
     "text": [
      "Details of Candidate with Highest Margin:\n",
      "Parliament Constituency                INDORE(26)\n",
      "Winning Candidate                 SHANKAR LALWANI\n",
      "Total Votes                             1226751.0\n",
      "Margin                                  1175092.0\n",
      "Winning Party              Bharatiya Janata Party\n",
      "Name: 104, dtype: object\n",
      "\n",
      "\n",
      "Details of Candidate with Highest Total Votes:\n",
      "Parliament Constituency                  Dhubri (2)\n",
      "Winning Candidate                   RAKIBUL HUSSAIN\n",
      "Total Votes                               1471885.0\n",
      "Margin                                    1012476.0\n",
      "Winning Party              Indian National Congress\n",
      "Name: 240, dtype: object\n"
     ]
    }
   ],
   "source": [
    "\n",
    "df = pd.DataFrame(data)\n",
    "\n",
    "# Candidate with highest margin\n",
    "highest_margin_candidate = df.loc[df['Margin'].idxmax()]\n",
    "\n",
    "# Candidate with highest total votes\n",
    "highest_votes_candidate = df.loc[df['Total Votes'].idxmax()]\n",
    "\n",
    "# Print details of highest margin candidate\n",
    "print(\"Details of Candidate with Highest Margin:\")\n",
    "print(highest_margin_candidate)\n",
    "\n",
    "print(\"\\n\")\n",
    "\n",
    "# Print details of candidate with highest total votes\n",
    "print(\"Details of Candidate with Highest Total Votes:\")\n",
    "print(highest_votes_candidate)"
   ]
  },
  {
   "cell_type": "markdown",
   "metadata": {},
   "source": [
    "6.  Details Uncontested elections: Only one Candidate was Participated and unanimous winning "
   ]
  },
  {
   "cell_type": "code",
   "execution_count": null,
   "metadata": {},
   "outputs": [
    {
     "name": "stdout",
     "output_type": "stream",
     "text": [
      "Details of Records Where No Opposition Candidate was there:\n",
      "   Parliament Constituency                             Winning Candidate  \\\n",
      "49               Surat(24)  MUKESHKUMAR CHANDRAKAANT DALAL (Uncontested)   \n",
      "\n",
      "             Winning Party  \n",
      "49  Bharatiya Janata Party  \n"
     ]
    }
   ],
   "source": [
    "df = pd.DataFrame(data)\n",
    "# Filter records where Margin is NULL and select specific columns\n",
    "null_margin_records = df[df['Margin'].isnull()][['Parliament Constituency', 'Winning Candidate', 'Winning Party']]\n",
    "\n",
    "print(\"Details of Records Where No Opposition Candidate was there:\")\n",
    "print(null_margin_records)\n"
   ]
  },
  {
   "cell_type": "markdown",
   "metadata": {},
   "source": [
    "7. Distribution of Victory Margins: The distribution of total votes shows that most constituencies have a moderate number of votes, with a few having exceptionally high vote counts."
   ]
  },
  {
   "cell_type": "code",
   "execution_count": null,
   "metadata": {},
   "outputs": [
    {
     "data": {
      "image/png": "[encoded data removed]",
      "text/plain": [
       "<Figure size 1000x600 with 1 Axes>"
      ]
     },
     "metadata": {},
     "output_type": "display_data"
    }
   ],
   "source": [
    "plt.figure(figsize=(10, 6))\n",
    "sns.histplot(data['Margin'], kde=True, bins=30)\n",
    "plt.title('Distribution of Victory Margins')\n",
    "plt.xlabel('Victory Margin')\n",
    "plt.ylabel('Frequency')\n",
    "plt.show()"
   ]
  },
  {
   "cell_type": "markdown",
   "metadata": {},
   "source": [
    "8. Average Victory Margin by Party: The Bharatiya Janata Party (BJP) dominates the election, as shown by the party-wise distribution of winning candidates."
   ]
  },
  {
   "cell_type": "code",
   "execution_count": null,
   "metadata": {},
   "outputs": [
    {
     "data": {
      "image/png": "[encoded data removed]",
      "text/plain": [
       "<Figure size 1000x600 with 1 Axes>"
      ]
     },
     "metadata": {},
     "output_type": "display_data"
    }
   ],
   "source": [
    "\n",
    "avg_margin_by_party = data.groupby('Winning Party')['Margin'].mean().reset_index()\n",
    "plt.figure(figsize=(10, 6))\n",
    "sns.barplot(x='Margin', y='Winning Party', data=avg_margin_by_party)\n",
    "plt.title('Average Victory Margin by Party')\n",
    "plt.xlabel('Average Victory Margin')\n",
    "plt.ylabel('Party')\n",
    "plt.show()"
   ]
  },
  {
   "cell_type": "markdown",
   "metadata": {},
   "source": [
    "9. Comparison of Vote Shares Among Top Parties: The comparison of vote shares among the top parties shows significant variation in total votes received by different parties."
   ]
  },
  {
   "cell_type": "code",
   "execution_count": null,
   "metadata": {},
   "outputs": [
    {
     "data": {
      "image/png": "[encoded data removed]",
      "text/plain": [
       "<Figure size 1000x600 with 1 Axes>"
      ]
     },
     "metadata": {},
     "output_type": "display_data"
    }
   ],
   "source": [
    "top_parties = data['Winning Party'].value_counts().nlargest(5).index\n",
    "filtered_data = data[data['Winning Party'].isin(top_parties)]\n",
    "plt.figure(figsize=(10, 6))\n",
    "sns.boxplot(x='Winning Party', y='Total Votes', data=filtered_data)\n",
    "plt.title('Comparison of Vote Shares Among Top Parties')\n",
    "plt.xlabel('Party')\n",
    "plt.ylabel('Total Votes')\n",
    "plt.show()"
   ]
  },
  {
   "cell_type": "markdown",
   "metadata": {},
   "source": [
    "10. Relation Between Votes and margin: There is a positive correlation between the total votes and the victory margin, indicating that higher total votes tend to result in larger victory margins."
   ]
  },
  {
   "cell_type": "code",
   "execution_count": null,
   "metadata": {},
   "outputs": [
    {
     "data": {
      "image/png": "[encoded data removed]",
      "text/plain": [
       "<Figure size 1000x600 with 1 Axes>"
      ]
     },
     "metadata": {},
     "output_type": "display_data"
    }
   ],
   "source": [
    "import seaborn as sns\n",
    "import matplotlib.pyplot as plt\n",
    "df = pd.DataFrame(data)\n",
    "plt.figure(figsize=(10, 6))\n",
    "sns.scatterplot(x='Total Votes', y='Margin', data=df)\n",
    "plt.title('Total Votes vs. Victory Margin')\n",
    "plt.xlabel('Total Votes')\n",
    "plt.ylabel('Victory Margin')\n",
    "plt.grid(True)\n",
    "plt.show()"
   ]
  }
 ],
 "metadata": {
  "kernelspec": {
   "display_name": "myenv",
   "language": "python",
   "name": "myenv"
  },
  "language_info": {
   "codemirror_mode": {
    "name": "ipython",
    "version": 3
   },
   "file_extension": ".py",
   "mimetype": "text/x-python",
   "name": "python",
   "nbconvert_exporter": "python",
   "pygments_lexer": "ipython3",
   "version": "3.12.0"
  }
 },
 "nbformat": 4,
 "nbformat_minor": 2
}
